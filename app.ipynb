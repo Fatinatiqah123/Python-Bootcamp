{
 "cells": [
  {
   "cell_type": "code",
   "execution_count": 1,
   "id": "a2502adb",
   "metadata": {},
   "outputs": [
    {
     "name": "stdout",
     "output_type": "stream",
     "text": [
      "Hello world\n"
     ]
    }
   ],
   "source": [
    "print('Hello world')\n"
   ]
  },
  {
   "cell_type": "code",
   "execution_count": null,
   "id": "9ba5a044",
   "metadata": {},
   "outputs": [],
   "source": []
  },
  {
   "cell_type": "code",
   "execution_count": null,
   "id": "99d47b8d",
   "metadata": {},
   "outputs": [],
   "source": [
    "\"\"\"\n",
    "This is Hello World \n",
    "\"\"\"\n",
    "\n",
    "print( 'Hello World') "
   ]
  },
  {
   "cell_type": "code",
   "execution_count": 1,
   "id": "5a23c42c",
   "metadata": {},
   "outputs": [
    {
     "name": "stdout",
     "output_type": "stream",
     "text": [
      "Fatin\n"
     ]
    }
   ],
   "source": [
    "name = input('Fatin')\n",
    "\n",
    "print(name)\n"
   ]
  },
  {
   "cell_type": "code",
   "execution_count": 3,
   "id": "67935f5e",
   "metadata": {},
   "outputs": [
    {
     "name": "stdout",
     "output_type": "stream",
     "text": [
      "you are allowed to enter the premise \n"
     ]
    }
   ],
   "source": [
    "name = 'Ammar'\n",
    "if name == 'Ammar': \n",
    "    print('you are allowed to enter the premise ')\n",
    "else:\n",
    "    print('you are always welcome')\n",
    "    "
   ]
  },
  {
   "cell_type": "code",
   "execution_count": 8,
   "id": "8039bcca",
   "metadata": {},
   "outputs": [
    {
     "ename": "IndentationError",
     "evalue": "unindent does not match any outer indentation level (<string>, line 5)",
     "output_type": "error",
     "traceback": [
      "  \u001b[36mFile \u001b[39m\u001b[32m<string>:5\u001b[39m\n\u001b[31m    \u001b[39m\u001b[31melse:\u001b[39m\n          ^\n\u001b[31mIndentationError\u001b[39m\u001b[31m:\u001b[39m unindent does not match any outer indentation level\n"
     ]
    }
   ],
   "source": [
    "while True: \n",
    "    name = input( 'what is your name?')\n",
    "    if name == 'chong' : \n",
    "        print('you are not allowed to enter the premise')\n",
    "     else: \n",
    "        print( 'you are always welcome to enter the premise! ! ') \n",
    "     time.sleep(2) "
   ]
  },
  {
   "cell_type": "code",
   "execution_count": null,
   "id": "4f2befba",
   "metadata": {},
   "outputs": [],
   "source": []
  }
 ],
 "metadata": {
  "kernelspec": {
   "display_name": "Python 3",
   "language": "python",
   "name": "python3"
  },
  "language_info": {
   "codemirror_mode": {
    "name": "ipython",
    "version": 3
   },
   "file_extension": ".py",
   "mimetype": "text/x-python",
   "name": "python",
   "nbconvert_exporter": "python",
   "pygments_lexer": "ipython3",
   "version": "3.12.1"
  }
 },
 "nbformat": 4,
 "nbformat_minor": 5
}
